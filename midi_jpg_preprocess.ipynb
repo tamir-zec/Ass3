{
 "cells": [
  {
   "cell_type": "code",
   "execution_count": 5,
   "metadata": {},
   "outputs": [],
   "source": [
    "import pretty_midi as pm\n",
    "\n",
    "\n",
    "# For plotting\n",
    "import mir_eval.display\n",
    "import librosa.display\n",
    "import matplotlib.pyplot as plt\n",
    "%matplotlib inline\n",
    "\n",
    "\n",
    "import pandas as pd\n",
    "import numpy as np\n",
    "import os\n",
    "from functools import reduce\n",
    "import operator\n",
    "import imgkit\n",
    "\n",
    "from sklearn.decomposition import PCA\n",
    "\n",
    "# import warnings\n",
    "# warnings.filterwarnings(\"ignore\")\n",
    "\n",
    "Normalized_Pitch = 127\n",
    "data_path = 'C:/code/course/Deep_learning/Ass3/Data'\n",
    "midi_dir = 'midi_files'"
   ]
  },
  {
   "cell_type": "code",
   "execution_count": 6,
   "metadata": {},
   "outputs": [],
   "source": [
    "def plot_piano_roll(midi_file, start_pitch, end_pitch, fs=100):\n",
    "    # Use librosa's specshow function for displaying the piano roll\n",
    "    librosa.display.specshow(midi_file.get_piano_roll(fs)[start_pitch:end_pitch],\n",
    "                             hop_length=1, sr=fs, x_axis='time', y_axis='cqt_note',\n",
    "                             fmin=pm.note_number_to_hz(start_pitch))\n"
   ]
  },
  {
   "cell_type": "code",
   "execution_count": 7,
   "metadata": {},
   "outputs": [],
   "source": [
    "def build_jpg_dataset(jpg_dir_path):\n",
    "    try:\n",
    "        os.mkdir(jpg_dir_path)\n",
    "    except FileExistsError:\n",
    "        pass\n",
    "\n",
    "    pictures_data = []\n",
    "    bad_songs = []\n",
    "    song_names = []\n",
    "    midi_files_path = os.path.join(data_path, midi_dir)\n",
    "        \n",
    "    for path in os.listdir(midi_files_path):\n",
    "        try:\n",
    "            midi_file = pm.PrettyMIDI(os.path.join(midi_files_path, path))\n",
    "            plt.figure(figsize=(24, 8))\n",
    "            plot_piano_roll(midi_file, 0,127)\n",
    "            beats = midi_file.get_beats()\n",
    "            downbeats = midi_file.get_downbeats()\n",
    "            ymin, ymax = plt.ylim()\n",
    "            # Plot beats as grey lines, downbeats as white lines\n",
    "            mir_eval.display.events(beats, base=ymin, height=ymax, color='#AAAAAA', lw=0.1)\n",
    "            mir_eval.display.events(downbeats, base=ymin, height=ymax, color='#FFFFFF', lw=0.25)\n",
    "            if not os.path.exists(os.path.join(jpg_dir_path,path+\".jpg\")):\n",
    "                plt.savefig(os.path.join(jpg_dir_path,path+\".jpg\"))\n",
    "        except Exception as e:\n",
    "            bad_songs.append(path)\n",
    "            print(e)\n",
    "        \n",
    "#         curr_file_path = os.path.join(midi_files_path, path+'.html')\n",
    "#         plot = plotter.save(midi_file, curr_file_path)\n",
    "#         imgkit.from_file(curr_file_path, os.path.join(midi_files_path, path+'.jpg'))"
   ]
  },
  {
   "cell_type": "code",
   "execution_count": null,
   "metadata": {
    "scrolled": true
   },
   "outputs": [
    {
     "name": "stderr",
     "output_type": "stream",
     "text": [
      "c:\\users\\tamir\\appdata\\local\\programs\\python\\python37\\lib\\site-packages\\librosa\\display.py:1155: UserWarning: Frequency axis exceeds Nyquist. Did you remember to set all spectrogram parameters in specshow?\n",
      "  \"Frequency axis exceeds Nyquist. \"\n",
      "c:\\users\\tamir\\appdata\\local\\programs\\python\\python37\\lib\\site-packages\\librosa\\display.py:974: MatplotlibDeprecationWarning: The 'basey' parameter of __init__() has been renamed 'base' since Matplotlib 3.3; support for the old name will be dropped two minor releases later.\n",
      "  scaler(mode, **kwargs)\n"
     ]
    },
    {
     "name": "stdout",
     "output_type": "stream",
     "text": [
      "MThd not found. Probably not a MIDI file\n"
     ]
    },
    {
     "name": "stderr",
     "output_type": "stream",
     "text": [
      "c:\\users\\tamir\\appdata\\local\\programs\\python\\python37\\lib\\site-packages\\pretty_midi\\pretty_midi.py:101: RuntimeWarning: Tempo, Key or Time signature change events found on non-zero tracks.  This is not a valid type 0 or type 1 MIDI file.  Tempo, Key or Time Signature may be wrong.\n",
      "  RuntimeWarning)\n"
     ]
    },
    {
     "name": "stdout",
     "output_type": "stream",
     "text": [
      "data byte must be in range 0..127\n"
     ]
    },
    {
     "name": "stderr",
     "output_type": "stream",
     "text": [
      "c:\\users\\tamir\\appdata\\local\\programs\\python\\python37\\lib\\site-packages\\ipykernel_launcher.py:15: RuntimeWarning: More than 20 figures have been opened. Figures created through the pyplot interface (`matplotlib.pyplot.figure`) are retained until explicitly closed and may consume too much memory. (To control this warning, see the rcParam `figure.max_open_warning`).\n",
      "  from ipykernel import kernelapp as app\n"
     ]
    },
    {
     "name": "stdout",
     "output_type": "stream",
     "text": [
      "Could not decode key with 1 flats and mode 255\n",
      "data byte must be in range 0..127\n",
      "data byte must be in range 0..127\n"
     ]
    }
   ],
   "source": [
    "midi_jpg_dir = 'midi_jpgs'\n",
    "train_set_path = 'lyrics_train_set.csv'\n",
    "build_jpg_dataset(os.path.join(data_path, midi_jpg_dir))"
   ]
  }
 ],
 "metadata": {
  "kernelspec": {
   "display_name": "Python 3",
   "language": "python",
   "name": "python3"
  },
  "language_info": {
   "codemirror_mode": {
    "name": "ipython",
    "version": 3
   },
   "file_extension": ".py",
   "mimetype": "text/x-python",
   "name": "python",
   "nbconvert_exporter": "python",
   "pygments_lexer": "ipython3",
   "version": "3.7.7"
  }
 },
 "nbformat": 4,
 "nbformat_minor": 4
}
